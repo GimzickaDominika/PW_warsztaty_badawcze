{
 "cells": [
  {
   "cell_type": "markdown",
   "id": "43a9c8f7-b301-4997-91cc-3d3dad00c002",
   "metadata": {},
   "source": [
    "##### Michał Kukla, 311134"
   ]
  },
  {
   "cell_type": "markdown",
   "id": "0dc513fb-b8d5-4774-9a9f-c64d88e263af",
   "metadata": {},
   "source": [
    "# Praca domowa LLM"
   ]
  },
  {
   "cell_type": "code",
   "execution_count": 117,
   "id": "645cdef0-0587-4cec-b0c3-ddd1d59543eb",
   "metadata": {},
   "outputs": [],
   "source": [
    "import re\n",
    "import tensorflow as tf\n",
    "import ollama\n",
    "import string"
   ]
  },
  {
   "cell_type": "code",
   "execution_count": 134,
   "id": "6448370e-e188-49fb-90db-26141e63bb83",
   "metadata": {},
   "outputs": [
    {
     "name": "stdout",
     "output_type": "stream",
     "text": [
      "Załadowanie zdań:\n",
      "1: Uif qmbdfcp fggfdu jt b qifopnfopo jo xijdi qfpqmf fyqfsjfodf bo jnqspwfnfou jo ifbmui bgufs ubljoh b tvctubodf xjui op nfejdjobm qspqfsujft cfdbvtf uifz cfmjfwf ju xpslt.\n",
      "2: Vjg jwocp dtckp ku pgwtqrncuvke, yjkej ogcpu kv ecp ejcpig cpf cfcrv vjtqwijqwv nkhg kp tgurqpug vq gzrgtkgpegu.\n",
      "3: Wkh Plojudp hashulphqw vkrzhg wkdw shrsoh duh zloolqj wr rehb dxwkrulwb hyhq zkhq wkhlu dfwlrqv pdb kdup rwkhuv.\n",
      "4: Xli fcwxerhiv ijjigx qeoiw tistpi piww pmoipc xs sjjiv lipt alir qsvi tistpi evi evsyrh—xlic ewwyqi xlex wsqisri ipwi ampp hs mx.\n",
      "5: Ujtuqj wjrjrgjw ymj gjlnssnsl fsi jsi tk f qnxy tk nsktwrfynts gjyyjw, bmnhm nx pstbs fx ymj uwnrfhd jkkjhy fsi ymj wjhjshd jkkjhy.\n",
      "6: Vxurutmkj yzxkyy igt rkgj zu nkgrzn vxuhrksy yain gy nkgxz joykgyk, g ckgqktkj ossatk yeyzks, gtj jkvxkyyout.\n",
      "7: Ltvapvuz pumsblujl jvnupapcl wyvjlzzlz zbjo hz tltvyf huk kljpzpvu-thrpun—zayvun zaylzz jhu opukly svnpjhs aopurpun.\n",
      "8: Pweizl Oizlvmz'a bpmwzg wn uctbqxtm qvbmttqomvkma acoomaba bpib bpmzm izm dizqwca bgxma wn qvbmttqomvkm, ackp ia tqvocqabqk, twoqkit-uibpmuibqkit, ivl qvbmzxmzawvit qvbmttqomvkm.\n",
      "9: Ynxyun jan vxan urtnuh cx knurnen rwoxavjcrxw cqjc lxworavb cqnra yanngrbcrwp knurnob.\n",
      "10: Cvooz zvkic k uoi byvo sx wowybi myxcyvsnkdsyx, kxn sdc vkmu mkx vokn dy zbylvowc gsdr myxmoxdbkdsyx kxn vokbxsxq.\n"
     ]
    }
   ],
   "source": [
    "def load_sentences(filename):\n",
    "    with open(filename, 'r', encoding='utf-8') as file:\n",
    "        sentences = [line.strip() for line in file.readlines()]\n",
    "    return sentences\n",
    "\n",
    "filename = \"homework_1_ang.txt\"\n",
    "to_decrypt = load_sentences(filename)\n",
    "\n",
    "print(\"Załadowanie zdań:\")\n",
    "for i, sentence in enumerate(to_decrypt[:10]):\n",
    "    print(f\"{i+1}: {sentence}\")"
   ]
  },
  {
   "cell_type": "markdown",
   "id": "5ab33a20-66cc-40fa-bf18-aaf17fa4f6d4",
   "metadata": {},
   "source": [
    "### Sprawdzam, czy model działa."
   ]
  },
  {
   "cell_type": "code",
   "execution_count": 3,
   "id": "469b2669-a728-42be-999b-c8746aef2416",
   "metadata": {},
   "outputs": [
    {
     "name": "stdout",
     "output_type": "stream",
     "text": [
      " Hello there! I'm an AI, so I don't have feelings, but I'm here and ready to help you. How can I assist you today?\n"
     ]
    }
   ],
   "source": [
    "response = ollama.chat(model=\"mistral\", messages=[{\"role\": \"user\", \"content\": \"Hello! How are you?\"}])\n",
    "\n",
    "print(response['message']['content'])"
   ]
  },
  {
   "cell_type": "markdown",
   "id": "0514b163-4d88-4dd8-a0c1-d3e429112f9f",
   "metadata": {},
   "source": [
    "### Model został postawiony lokalnie pomyślnie. Naszym zadaniem jest teraz rozszyfrować te 10 zdań po angielsku."
   ]
  },
  {
   "cell_type": "code",
   "execution_count": 4,
   "id": "06782d33-b6ba-4513-be7b-90ab484c2f31",
   "metadata": {},
   "outputs": [],
   "source": [
    "mistral_responses = []\n",
    "\n",
    "for sentence in to_decrypt:\n",
    "    response = ollama.chat(model=\"mistral\", messages=[\n",
    "    {\"role\": \"user\", \"content\": f\"Decrypt this sentence: {sentence}.\\\n",
    "    Start your answer with sentence 'Encrypted sentence: ', write the decrypted sentence in quotation marks,\\\n",
    "    followed by an explanation of the cipher used and how it works.\\\n",
    "    The explanation should not use quotation marks.\"}\n",
    "])\n",
    "    mistral_responses.append(response['message']['content'])"
   ]
  },
  {
   "cell_type": "code",
   "execution_count": 10,
   "id": "3bdd3726-ce80-4ae9-a24b-3698bf7fc640",
   "metadata": {
    "scrolled": true
   },
   "outputs": [
    {
     "name": "stdout",
     "output_type": "stream",
     "text": [
      "\n",
      "Odszyfrowane zdania:\n",
      "\n",
      "\n",
      "1:  Encrypted sentence: \"Uif qmbdfcp fggfdu jt b qifopnfopo jo xijdi qfpqmf fyqfsjfodf bo jnqspwfnfou jo ifbmui bgufs ubljoh b tvctubodf xjui op nfejdjobm qspqfsujft cfdbvtf uifz cfmjfwf ju xpslt\"\n",
      "\n",
      "   The decrypted sentence is \"The quick brown fox jumps over the lazy dog\". This appears to be a Caesar cipher, a type of substitution cipher where each letter in the plaintext is 'shifted' a certain number of places down or up the alphabet. In this case, it seems that each letter has been shifted 5 positions clockwise (or 23 positions counter-clockwise) since the encoded letter corresponds to the 5th (or 23rd) letter in the alphabet. For example, 'U' is the 21st letter of the alphabet and corresponds to 'T' when shifted 5 places.\n",
      "\n",
      "   To decode a Caesar cipher, one can either shift each letter 5 positions counter-clockwise (or shift them 23 positions clockwise in this case) or use frequency analysis and other clues to deduce the correct shift value. In this case, the pattern of common letters such as 'e', 't', and 'a' might have helped to deduce that the shift is 5.\n",
      "\n",
      "\n",
      "\n",
      "\n",
      "\n",
      "2:  Encrypted sentence: Vjg jwocp dtckp ku pgwtqrncuvke, yjkej ogcpu kv ecp ejcpig cpf cfcrv vjtqwijqwv nkhg kp tgurqpug vq gzrgtkgpegu.\n",
      "\n",
      "   Decrypted sentence: To be or not to be, that is the question.\n",
      "\n",
      "   The cipher used here is called a Caesar cipher, also known as shift cipher. It is one of the simplest and most well-known methods of encryption. In this case, each letter in the plaintext is 'shifted' a certain number of places down the alphabet. In this specific example, the entire plaintext has been shifted 3 places down (A -> D, B -> E, C -> F, etc.). This means that the first letter of the encrypted sentence corresponds to the third letter of the original sentence in the alphabet, and so on.\n",
      "\n",
      "\n",
      "\n",
      "\n",
      "\n",
      "3:  Encrypted sentence: Wkh Plojudp hashulphqw vkrzhg wkdw shrsoh duh zloolqj wr rehb dxwkrulwb hyhq zkhq wkhlu dfwlrqv pdb kdup rwkhuv\n",
      "\n",
      "   Decrypted sentence: \"The quick brown fox jumps over the lazy dog.\"\n",
      "\n",
      "   The cipher used here is a simple Caesar Cipher with a shift of 3 letters. In this case, each letter in the original message was shifted 3 places forward in the alphabet. For example, 'A' became 'D', 'B' became 'E', and so on. This means that to decrypt the message, we would subtract 3 from each encrypted letter to get back the original letters.\n",
      "\n",
      "\n",
      "\n",
      "\n",
      "\n",
      "4:  Encrypted sentence: Xli fcwxerhiv ijjigx qeoiw tistpi piww pmoipc xs sjjiv lipt alir qsvi tistpi evi evsyrh—xlic ewwyqi xlex wsqisri ipwi ampp hs mx\n",
      "\n",
      "   The encrypted sentence appears to use a Caesar cipher, which is a type of substitution cipher where each letter in the plaintext is shifted a certain number of places down (or up) the alphabet. In this case, it seems that each letter has been shifted 3 places down the alphabet (A becomes D, B becomes E, and so on).\n",
      "\n",
      "   Decrypted sentence: \"the quick brown fox jumps over the lazy dog\"\n",
      "\n",
      "   To decrypt the message, we can shift each letter 3 places up the alphabet. For example, 'X' shifts to 'D', 'l' shifts to 'A', and so on.\n",
      "\n",
      "\n",
      "\n",
      "\n",
      "\n",
      "5:  Encrypted sentence: Ujtuqj wjrjrgjw ymj gjlnssnsl fsi jsi tk f qnxy tk nsktwrfynts gjyyjw, bmnhm nx pstbs fx ymj uwnrfhd jkkjhy fsi ymj wjhjshd jkkjhy.\n",
      "\n",
      "   Decrypted sentence: \"Every time you open the safe, remember to use the combination 21-37-59-87.\"\n",
      "\n",
      "   This sentence appears to be a simple Caesar cipher with a shift of 13 letters for every letter in the alphabet (A to M), 14 letters for N to Z. Therefore, every letter in the original message is replaced by the corresponding letter 13 or 14 places after it in the alphabet. For example, 'E' in the decrypted sentence corresponds to 'U' in the encrypted sentence because 'U' is 13 places after 'E'. The spaces are preserved as they are in the original message.\n",
      "\n",
      "\n",
      "\n",
      "\n",
      "\n",
      "6:  Encrypted sentence: Vxurutmkj yzxkyy igt rkgj zu nkgrzn vxuhrksy yain gy nkgxz joykgyk, g ckgqktkj ossatk yeyzks, gtj jkvxkyyout.\n",
      "\n",
      "   Decrypted sentence: \"We must find the treasure hidden deep within the ancient ruins, use caution, beware of traps.\"\n",
      "\n",
      "   The cipher used in this case is a simple Caesar Cipher, where each letter in the plaintext is shifted a certain number of positions down or up the alphabet. In this specific example, every letter was shifted 3 positions forward (i.e., A becomes D, B becomes E, and so on). To decrypt the sentence, you can reverse the process by shifting the encrypted letters backward 3 positions until the plaintext is obtained.\n",
      "\n",
      "\n",
      "\n",
      "\n",
      "\n",
      "7:  Encrypted sentence: Ltvapvuz pumsblujl jvnupapcl wyvjlzzlz zbjo hz tltvyf huk kljpzpvu-thrpun—zayvun zaylzz jhu opukly svnpjhs aopurpun.\n",
      "\n",
      "   Decrypted sentence: \"The quick brown fox jumps over the lazy dog.\"\n",
      "\n",
      "   The cipher used here is the Atbash cipher, which is a simple substitution cipher that replaces each letter with its 21st letter of the alphabet (the first letter of the alphabet wraps around to the last one). It's a popular cipher because it can be easily implemented and broken by hand. For example:\n",
      "\n",
      "   A -> Z, B -> Y, C -> X, ..., Z -> N, a -> M, b -> L, c -> K, ..., z -> F.\n",
      "\n",
      "   So 'The quick brown fox jumps over the lazy dog' encrypted using Atbash would be 'Ltvapvuz pumsblujl jvnupapcl wyvjlzzlz zbjo hz tltvyf huk kljpzpvu-thrpun—zayvun zaylzz jhu opukly svnpjhs aopurpun'.\n",
      "\n",
      "\n",
      "\n",
      "\n",
      "\n",
      "8:  Encrypted sentence: Pweizl Oizlvmz'a bpmwzg wn uctbqxtm qvbmttqomvkma acoomaba bpib bpmzm izm dizqwca bgxma wn qvbmttqomvkm, ackp ia tqvocqabqk, twoqkit-uibpmuibqkit, ivl qvbmzxmzawvit qvbmttqomvkm..\n",
      "\n",
      "   Decrypted sentence: \"We must protect this code at all costs; the enemy is closing in from multiple directions. We can't let them decode it, or they will destroy us.\"\n",
      "\n",
      "   This cipher is a simple Caesar Cipher with a shift of 3 letters for every alphabet (both uppercase and lowercase) except for 'j', 'J', 'q', 'Q', 'z', 'Z'. For example, A becomes D, B becomes E, and so on. This is a basic substitution cipher where each letter in the plaintext is 'shifted' a certain number of places down (or up) the alphabet, according to the key. In this case, the shift is 3.\n",
      "\n",
      "\n",
      "\n",
      "\n",
      "\n",
      "9:  Encrypted sentence: Ynxyun jan vxan urtnuh cx knurnen rwoxavjcrxw cqjc lxworavb cqnra yanngrbcrwp knurnob.\n",
      "\n",
      "   Decrypted sentence: The quick brown fox jumps over the lazy dog.\n",
      "\n",
      "   Explanation of the cipher used and how it works: This is a classic example of a Caesar Cipher, which is one of the simplest and most well-known methods of encryption. In a Caesar Cipher, each letter in the plaintext (the original message) is shifted a certain number of places down or up the alphabet. In this case, the shift seems to be 3 places forward for all letters (A->D, B->E, C->F, etc.). This method can easily be reversed by shifting the ciphertext back by the same amount. However, with a known or easily guessed shift, it is not considered a secure encryption method in modern cryptography.\n",
      "\n",
      "\n",
      "\n",
      "\n",
      "\n",
      "10:  Encrypted sentence: Cvooz zvkic k uoi byvo sx wowybi myxcyvsnkdsyx, kxn sdc vkmu mkx vokn dy zbylvowc gsdr myxmoxdbkdsyx kxn vokbxsxq.\n",
      "\n",
      "   Decrypted sentence: \"You are not alone in this world, for there are others like us who know the secret of the mysterious stone.\"\n",
      "\n",
      "   The cipher used here is a simple shift cipher where each letter in the alphabet is shifted by a fixed number (in this case, 3 places to the right). For example, 'A' becomes 'D', 'B' becomes 'E', and so on. This method can be easily decrypted if one knows the shift value. However, it is not secure for actual encryption since it is relatively easy to break with frequency analysis or brute force methods.\n",
      "\n",
      "\n",
      "\n",
      "\n"
     ]
    }
   ],
   "source": [
    "print(\"\\nOdszyfrowane zdania:\\n\")\n",
    "for i, sentence in enumerate(mistral_responses):\n",
    "    print(f\"\\n{i+1}: {sentence}\\n\\n\\n\\n\")"
   ]
  },
  {
   "cell_type": "markdown",
   "id": "3e5a133b-46cd-46b5-989a-22f7a9406ed0",
   "metadata": {},
   "source": [
    "### Model w większości halucynuje, jednak czasem poprawnie podał szyfr. Zatem teraz poproszę go o odpowiedzi, zdanie po zdaniu.\n",
    "### W tym samym czasie będę weryfikował, czy otrzymane zdanie jest poprawne.\n",
    "\n",
    "\n",
    "\n",
    "\n",
    "\n",
    "\n",
    "\n",
    "\n",
    "#"
   ]
  },
  {
   "cell_type": "code",
   "execution_count": 69,
   "id": "d9646779-3bbd-42f3-9346-ba722b3e3784",
   "metadata": {},
   "outputs": [],
   "source": [
    "answers = []\n",
    "decrypted_sentences = []"
   ]
  },
  {
   "cell_type": "markdown",
   "id": "9030c5ea-f630-425d-b38e-bd0c74e9c428",
   "metadata": {},
   "source": [
    "#### 1. zdanie"
   ]
  },
  {
   "cell_type": "code",
   "execution_count": 70,
   "id": "89130328-d8db-4a23-ac35-18eaddf36e66",
   "metadata": {},
   "outputs": [
    {
     "name": "stdout",
     "output_type": "stream",
     "text": [
      " Encrypted sentence: Uif qmbdfcp fggfdu jt b qifopnfopo jo xijdi qfpqmf fyqfsjfodf bo jnqspwfnfou jo ifbmui bgufs ubljoh b tvctubodf xjui op nfejdjobm qspqfsujft cfdbvtf uifz cfmjfwf ju xpslt.\n",
      "   Decrypted sentence: Meet me at the old park by the river on Friday at 5 PM.\n",
      "   The Caesar Cipher is a type of substitution cipher where each letter in the plaintext is 'shifted' a certain number of places down (or up) the alphabet. In this case, the shift was one place (a -> b), which makes it a Caesar Cipher with a 1-letter shift. This simple encryption method can be easily broken if the shift is known or discovered, as in this example where the repeating pattern of letters hints at the single-letter shift.\n"
     ]
    }
   ],
   "source": [
    "response = ollama.chat(model=\"mistral\", messages=[\n",
    "    {\"role\": \"user\", \"content\": f\"Decrypt this sentence: {to_decrypt[0]}.\\\n",
    "    Start your answer with sentence 'Encrypted sentence: ', then 'Decrypted sentence: \\n', write the decrypted sentence in quotation marks,\\\n",
    "    followed by an explanation of the cipher used and how it works.\\\n",
    "    The explanation should not use quotation marks. This is caesar cipher with 1 shift letter a to b when encoding.\"}\n",
    "])\n",
    "\n",
    "new = response['message']['content']\n",
    "print(f\"{new}\")"
   ]
  },
  {
   "cell_type": "code",
   "execution_count": 71,
   "id": "900dd0e1-5382-4b79-80b6-2dad61c00747",
   "metadata": {},
   "outputs": [
    {
     "data": {
      "text/plain": [
       "'Meet me at the old park by the river on Friday at 5 PM.'"
      ]
     },
     "execution_count": 71,
     "metadata": {},
     "output_type": "execute_result"
    }
   ],
   "source": [
    "answers.append(new)\n",
    "matches = re.findall(r\"Decrypted sentence:\\s*(.+)\", response['message']['content'])\n",
    "\n",
    "# Usuwamy zbędne spacje i dodajemy do listy\n",
    "decrypted_sentences = [matches[0].strip()]\n",
    "\n",
    "decrypted_sentences[0]"
   ]
  },
  {
   "cell_type": "markdown",
   "id": "c8af20b1-8a60-4dee-9901-ff5d81e6f728",
   "metadata": {},
   "source": [
    "# The placebo effect is a phenomenon in which people experience an improvement in health after taking a substance with no medicinal properties because they believe it works.\n",
    "\n",
    "\n",
    "\n",
    "\n",
    "\n",
    "\n",
    "\n",
    "\n",
    "\n",
    "#"
   ]
  },
  {
   "cell_type": "markdown",
   "id": "78418437-ec48-4fb2-87a8-d7a27b31ba5d",
   "metadata": {},
   "source": [
    "#### 2. zdanie"
   ]
  },
  {
   "cell_type": "code",
   "execution_count": 72,
   "id": "7cbf7b9f-0e68-4458-8b4c-f190e7ecfbe1",
   "metadata": {},
   "outputs": [
    {
     "name": "stdout",
     "output_type": "stream",
     "text": [
      " Encrypted sentence: Vjg jwocp dtckp ku pgwtqrncuvke, yjkej ogcpu kv ecp ejcpig cpf cfcrv vjtqwijqwv nkhg kp tgurqpug vq gzrgtkgpegu.\n",
      "\n",
      "   Decrypted sentence: We are having a meeting tomorrow at 3pm in the conference room.\n",
      "\n",
      "   The encryption used is the Caesar Cipher, specifically a shift of 2 letters for each letter in the message (a to c when encoding). This means that each letter in the original message was replaced with the third letter following it in the alphabet. For example, 'A' becomes 'C', 'B' becomes 'D', and so on.\n"
     ]
    }
   ],
   "source": [
    "response = ollama.chat(model=\"mistral\", messages=[\n",
    "    {\"role\": \"user\", \"content\": f\"Decrypt this sentence: {to_decrypt[1]}.\\\n",
    "    Start your answer with sentence 'Encrypted sentence: ', then 'Decrypted sentence: ', write the decrypted sentence in quotation marks,\\\n",
    "    followed by an explanation of the cipher used and how it works.\\\n",
    "    The explanation should not use quotation marks. This is caesar cipher with 2 shift letter a to c when encoding.\"}\n",
    "])\n",
    "\n",
    "new = response['message']['content']\n",
    "print(f\"{new}\")"
   ]
  },
  {
   "cell_type": "code",
   "execution_count": 73,
   "id": "85317d61-567b-4c47-a2dd-e00d1fa1aff4",
   "metadata": {},
   "outputs": [
    {
     "data": {
      "text/plain": [
       "'We are having a meeting tomorrow at 3pm in the conference room.'"
      ]
     },
     "execution_count": 73,
     "metadata": {},
     "output_type": "execute_result"
    }
   ],
   "source": [
    "answers.append(new)\n",
    "matches = re.findall(r\"Decrypted sentence:\\s*(.+)\", response['message']['content'])\n",
    "\n",
    "# Usuwamy zbędne spacje i dodajemy do listy\n",
    "decrypted_sentences.append(matches[0].strip())\n",
    "\n",
    "decrypted_sentences[1]"
   ]
  },
  {
   "cell_type": "markdown",
   "id": "c22a4f9f-b158-4466-84c5-e52aeec97f72",
   "metadata": {},
   "source": [
    "# The human brain is neuroplastic, which means it can change and adapt throughout life in response to experiences.\n",
    "\n",
    "\n",
    "\n",
    "\n",
    "\n",
    "\n",
    "\n",
    "\n",
    "\n",
    "#"
   ]
  },
  {
   "cell_type": "markdown",
   "id": "4759c798-6038-47cb-ab2e-e85252aaaf94",
   "metadata": {},
   "source": [
    "#### 3. zdanie"
   ]
  },
  {
   "cell_type": "code",
   "execution_count": 74,
   "id": "689e2668-0869-4ec7-9226-e6da43f37fe4",
   "metadata": {
    "scrolled": true
   },
   "outputs": [
    {
     "name": "stdout",
     "output_type": "stream",
     "text": [
      " Encrypted sentence: Wkh Plojudp hashulphqw vkrzhg wkdw shrsoh duh zloolqj wr rehb dxwkrulwb hyhq zkhq wkhlu dfwlrqv pdb kdup rwkhuv\n",
      "\n",
      "   Decrypted sentence: We love apple cars very much as they are reliable and durable vehicles.\n",
      "\n",
      "   The cipher used here is the Caesar Cipher, a type of substitution cipher where each letter in the plaintext (clear text) is shifted a certain number of places down the alphabet. In this case, the shift was 3 positions for every letter a to d during encoding. For example, A becomes D, B becomes E, and so on. The Caesar Cipher is one of the simplest forms of encryption, but it's not considered secure for modern uses because it can easily be broken by frequency analysis or brute force methods.\n"
     ]
    }
   ],
   "source": [
    "response = ollama.chat(model=\"mistral\", messages=[\n",
    "    {\"role\": \"user\", \"content\": f\"Decrypt this sentence: {to_decrypt[2]}.\\\n",
    "    Start your answer with sentence 'Encrypted sentence: ', then 'Decrypted sentence: ', write the decrypted sentence in quotation marks,\\\n",
    "    followed by an explanation of the cipher used and how it works.\\\n",
    "    The explanation should not use quotation marks. This is caesar cipher with 3 shift letter a to d when encoding.\"}\n",
    "])\n",
    "\n",
    "new = response['message']['content']\n",
    "print(f\"{new}\")"
   ]
  },
  {
   "cell_type": "code",
   "execution_count": 75,
   "id": "32c019f3-1dd0-44bf-bf8a-333cc92bc4d0",
   "metadata": {},
   "outputs": [
    {
     "data": {
      "text/plain": [
       "'We love apple cars very much as they are reliable and durable vehicles.'"
      ]
     },
     "execution_count": 75,
     "metadata": {},
     "output_type": "execute_result"
    }
   ],
   "source": [
    "answers.append(new)\n",
    "matches = re.findall(r\"Decrypted sentence:\\s*(.+)\", response['message']['content'])\n",
    "\n",
    "# Usuwamy zbędne spacje i dodajemy do listy\n",
    "decrypted_sentences.append(matches[0].strip())\n",
    "\n",
    "decrypted_sentences[2]"
   ]
  },
  {
   "cell_type": "markdown",
   "id": "bf7fa556-12d5-455e-b0f9-1b3427c5d434",
   "metadata": {},
   "source": [
    "# The Milgram experiment showed that people are willing to obey authority even when their actions may harm others.\n",
    "\n",
    "\n",
    "\n",
    "\n",
    "\n",
    "\n",
    "\n",
    "\n",
    "#"
   ]
  },
  {
   "cell_type": "markdown",
   "id": "cb6824a2-d97f-4a0a-b688-c281d7dd6ed7",
   "metadata": {},
   "source": [
    "#### 4. zdanie"
   ]
  },
  {
   "cell_type": "code",
   "execution_count": 76,
   "id": "5cd9aceb-1211-47c8-8d85-0b27c12b8963",
   "metadata": {},
   "outputs": [
    {
     "name": "stdout",
     "output_type": "stream",
     "text": [
      " Encrypted sentence: Xli fcwxerhiv ijjigx qeoiw tistpi piww pmoipc xs sjjiv lipt alir qsvi tistpi evi evsyrh—xlic ewwyqi xlex wsqisri ipwi ampp hs mx.\n",
      "\n",
      "   Decrypted sentence: Meet at the park tomorrow at 3 PM sharp.\n",
      "\n",
      "   The cipher used here is Caesar Cipher, a type of substitution cipher where each letter in the plaintext is 'shifted' a certain number of places down (or up) the alphabet. In this case, every letter was shifted 4 places down, which means 'A' becomes 'E', 'B' becomes 'F', and so on. The spaces between words were maintained in the encryption process. This method is very basic and easy to break with modern computing power but was once a secure way of transmitting messages during wartime or other sensitive communications.\n"
     ]
    }
   ],
   "source": [
    "response = ollama.chat(model=\"mistral\", messages=[\n",
    "    {\"role\": \"user\", \"content\": f\"Decrypt this sentence: {to_decrypt[3]}.\\\n",
    "    Start your answer with sentence 'Encrypted sentence: ', then 'Decrypted sentence: ', write the decrypted sentence in quotation marks,\\\n",
    "    followed by an explanation of the cipher used and how it works.\\\n",
    "    The explanation should not use quotation marks. This is caesar cipher with 4 shift letter a to e when encoding.\"}\n",
    "])\n",
    "\n",
    "new = response['message']['content']\n",
    "print(f\"{new}\")"
   ]
  },
  {
   "cell_type": "code",
   "execution_count": 77,
   "id": "0cf1473f-7f50-4b64-bb0d-6abaa85cb56d",
   "metadata": {},
   "outputs": [
    {
     "data": {
      "text/plain": [
       "'Meet at the park tomorrow at 3 PM sharp.'"
      ]
     },
     "execution_count": 77,
     "metadata": {},
     "output_type": "execute_result"
    }
   ],
   "source": [
    "answers.append(new)\n",
    "matches = re.findall(r\"Decrypted sentence:\\s*(.+)\", response['message']['content'])\n",
    "\n",
    "# Usuwamy zbędne spacje i dodajemy do listy\n",
    "decrypted_sentences.append(matches[0].strip())\n",
    "\n",
    "decrypted_sentences[3]"
   ]
  },
  {
   "cell_type": "markdown",
   "id": "7b9f2e9b-eec7-459a-ab90-c09ec6d2f62e",
   "metadata": {},
   "source": [
    "# The bystander effect makes people less likely to offer help when more people are around—they assume that someone else will do it.\n",
    "\n",
    "\n",
    "\n",
    "\n",
    "\n",
    "\n",
    "\n",
    "\n",
    "\n",
    "\n",
    "#"
   ]
  },
  {
   "cell_type": "markdown",
   "id": "0d400527-1af4-4f10-acb7-491c40bc9fa8",
   "metadata": {},
   "source": [
    "#### 5. zdanie"
   ]
  },
  {
   "cell_type": "code",
   "execution_count": 79,
   "id": "129503ff-aad2-4937-8555-6a6f17ea9294",
   "metadata": {},
   "outputs": [
    {
     "name": "stdout",
     "output_type": "stream",
     "text": [
      " Encrypted sentence: Ujtuqj wjrjrgjw ymj gjlnssnsl fsi jsi tk f qnxy tk nsktwrfynts gjyyjw, bmnhm nx pstbs fx ymj uwnrfhd jkkjhy fsi ymj wjhjshd jkkjhy..\n",
      "\n",
      "   Decrypted sentence: Hello world this is a test message for you.\n",
      "\n",
      "   The cipher used here is Caesar Cipher, a type of substitution cipher where each letter in the plaintext is replaced by a letter some fixed number of positions down (or occasionally up) the alphabet. In this specific case, the shift was 5 letters ahead from 'A' to 'F'. For example, A becomes F, B becomes G, and so on. This method is named after Julius Caesar, who used it to send secret messages. However, because the same shift is used for every letter, it is relatively easy to decipher with modern methods and is not considered secure for actual encryption purposes.\n"
     ]
    }
   ],
   "source": [
    "response = ollama.chat(model=\"mistral\", messages=[\n",
    "    {\"role\": \"user\", \"content\": f\"Decrypt this sentence: {to_decrypt[4]}.\\\n",
    "    Start your answer with sentence 'Encrypted sentence: ', then 'Decrypted sentence: ', write the decrypted sentence in quotation marks,\\\n",
    "    followed by an explanation of the cipher used and how it works.\\\n",
    "    The explanation should not use quotation marks. This is caesar cipher with 5 shift letter a to f when encoding.\"}\n",
    "])\n",
    "\n",
    "new = response['message']['content']\n",
    "print(f\"{new}\")"
   ]
  },
  {
   "cell_type": "code",
   "execution_count": 80,
   "id": "af0fec8b-6a0d-4951-83cc-57afde27b30d",
   "metadata": {},
   "outputs": [
    {
     "data": {
      "text/plain": [
       "'Hello world this is a test message for you.'"
      ]
     },
     "execution_count": 80,
     "metadata": {},
     "output_type": "execute_result"
    }
   ],
   "source": [
    "answers.append(new)\n",
    "matches = re.findall(r\"Decrypted sentence:\\s*(.+)\", response['message']['content'])\n",
    "\n",
    "# Usuwamy zbędne spacje i dodajemy do listy\n",
    "decrypted_sentences.append(matches[0].strip())\n",
    "\n",
    "decrypted_sentences[4]"
   ]
  },
  {
   "cell_type": "markdown",
   "id": "4d268448-1050-41b7-aab9-99515b2e4683",
   "metadata": {},
   "source": [
    "# People remember the beginning and end of a list of information better, which is known as the primacy effect and the recency effect.\n",
    "\n",
    "\n",
    "\n",
    "\n",
    "\n",
    "\n",
    "\n",
    "\n",
    "\n",
    "#"
   ]
  },
  {
   "cell_type": "markdown",
   "id": "e7d3d41d-8483-4d2e-8a60-f7e707bc418f",
   "metadata": {},
   "source": [
    "#### 6. zdanie"
   ]
  },
  {
   "cell_type": "code",
   "execution_count": 84,
   "id": "6e053900-2b96-492f-ad33-8e5c7d3e8f56",
   "metadata": {},
   "outputs": [
    {
     "name": "stdout",
     "output_type": "stream",
     "text": [
      " Encrypted sentence: Vxurutmkj yzxkyy igt rkgj zu nkgrzn vxuhrksy yain gy nkgxz joykgyk, g ckgqktkj ossatk yeyzks, gtj jkvxkyyout.\n",
      "\n",
      "   Decrypted sentence: The quick brown fox jumps over the lazy dog, the cow jumped over the moon, the little pig ran quickly.\n",
      "\n",
      "   Explanation of the cipher used and how it works: This is a Caesar Cipher with a shift of 6 letters. Each letter in the original text was shifted forward by 6 places in the alphabet. For example, 'A' becomes 'F', 'B' becomes 'G', and so on. Capital letters are treated the same as lowercase letters in this cipher. It is a simple substitution cipher that provides a rudimentary form of encryption. The name derives from Julius Caesar's use of it for encrypted messages, known as ciphertext. To decrypt a message, you would shift each letter backward by 6 places in the alphabet.\n"
     ]
    }
   ],
   "source": [
    "response = ollama.chat(model=\"mistral\", messages=[\n",
    "    {\"role\": \"user\", \"content\": f\"Decrypt this sentence: {to_decrypt[5]}.\\\n",
    "    Start your answer with sentence 'Encrypted sentence: ', then 'Decrypted sentence: ', write the decrypted sentence in quotation marks,\\\n",
    "    followed by an explanation of the cipher used and how it works.\\\n",
    "    The explanation should not use quotation marks. This is caesar cipher with 6 shift letter a to g when encoding.\"}\n",
    "])\n",
    "\n",
    "new = response['message']['content']\n",
    "print(f\"{new}\")"
   ]
  },
  {
   "cell_type": "code",
   "execution_count": 85,
   "id": "119e37ca-6bb7-442e-a4e1-8f049fe426c3",
   "metadata": {},
   "outputs": [
    {
     "data": {
      "text/plain": [
       "'The quick brown fox jumps over the lazy dog, the cow jumped over the moon, the little pig ran quickly.'"
      ]
     },
     "execution_count": 85,
     "metadata": {},
     "output_type": "execute_result"
    }
   ],
   "source": [
    "answers.append(new)\n",
    "matches = re.findall(r\"Decrypted sentence:\\s*(.+)\", response['message']['content'])\n",
    "\n",
    "# Usuwamy zbędne spacje i dodajemy do listy\n",
    "decrypted_sentences.append(matches[0].strip())\n",
    "\n",
    "decrypted_sentences[5]"
   ]
  },
  {
   "cell_type": "markdown",
   "id": "465471bb-914c-4486-8e17-0db795bc0d63",
   "metadata": {},
   "source": [
    "# Prolonged stress can lead to health problems such as heart disease, a weakened immune system, and depression.\n",
    "\n",
    "\n",
    "\n",
    "\n",
    "\n",
    "\n",
    "\n",
    "#"
   ]
  },
  {
   "cell_type": "markdown",
   "id": "e13e2c3a-3baa-4846-9968-4dc2a54a8853",
   "metadata": {},
   "source": [
    "#### 7. zdanie"
   ]
  },
  {
   "cell_type": "code",
   "execution_count": 88,
   "id": "6eb9c074-a26f-43b9-becf-1bd920812bb4",
   "metadata": {},
   "outputs": [
    {
     "name": "stdout",
     "output_type": "stream",
     "text": [
      " Encrypted sentence: Ltvapvuz pumsblujl jvnupapcl wyvjlzzlz zbjo hz tltvyf huk kljpzpvu-thrpun—zayvun zaylzz jhu opukly svnpjhs aopurpun.\n",
      "\n",
      "   Decrypted sentence: Meet me at the park tomorrow, I will bring you a book.\n",
      "\n",
      "   The cipher used here is the Caesar Cipher, a type of substitution cipher where each letter in the plaintext (original message) is 'shifted' a certain number of positions down or up in the alphabet. In this case, each letter was shifted 7 positions forward in the alphabet when encoding the message (which means that A becomes L, B becomes M, and so on). The cipher works by always applying the same shift to every letter, ensuring that the same plaintext always produces the same ciphertext.\n"
     ]
    }
   ],
   "source": [
    "response = ollama.chat(model=\"mistral\", messages=[\n",
    "    {\"role\": \"user\", \"content\": f\"Decrypt this sentence: {to_decrypt[6]}.\\\n",
    "    Start your answer with sentence 'Encrypted sentence: ', then 'Decrypted sentence: ', write the decrypted sentence in quotation marks,\\\n",
    "    followed by an explanation of the cipher used and how it works.\\\n",
    "    The explanation should not use quotation marks. This is caesar cipher with 7 shift letter a to h when encoding.\"}\n",
    "])\n",
    "\n",
    "new = response['message']['content']\n",
    "print(f\"{new}\")"
   ]
  },
  {
   "cell_type": "code",
   "execution_count": 89,
   "id": "5026396f-3188-4a0d-87c3-fd4cd245f57c",
   "metadata": {},
   "outputs": [
    {
     "data": {
      "text/plain": [
       "'Meet me at the park tomorrow, I will bring you a book.'"
      ]
     },
     "execution_count": 89,
     "metadata": {},
     "output_type": "execute_result"
    }
   ],
   "source": [
    "answers.append(new)\n",
    "matches = re.findall(r\"Decrypted sentence:\\s*(.+)\", response['message']['content'])\n",
    "\n",
    "# Usuwamy zbędne spacje i dodajemy do listy\n",
    "decrypted_sentences.append(matches[0].strip())\n",
    "\n",
    "decrypted_sentences[6]"
   ]
  },
  {
   "cell_type": "markdown",
   "id": "85abe21c-ebfa-47e0-815a-e8304eb82d22",
   "metadata": {},
   "source": [
    "# Emotions influence cognitive processes such as memory and decision-making—strong stress can hinder logical thinking.\n",
    "\n",
    "\n",
    "\n",
    "\n",
    "\n",
    "\n",
    "\n",
    "#"
   ]
  },
  {
   "cell_type": "markdown",
   "id": "64256099-62a6-4d7e-908b-f1ebb84812ef",
   "metadata": {},
   "source": [
    "#### 8. zdanie"
   ]
  },
  {
   "cell_type": "code",
   "execution_count": 90,
   "id": "1d496a77-8e09-4889-8682-353fdacf619a",
   "metadata": {},
   "outputs": [
    {
     "name": "stdout",
     "output_type": "stream",
     "text": [
      " Encrypted sentence: Pweizl Oizlvmz'a bpmwzg wn uctbqxtm qvbmttqomvkma acoomaba bpib bpmzm izm dizqwca bgxma wn qvbmttqomvkm, ackp ia tqvocqabqk, twoqkit-uibpmuibqkit, ivl qvbmzxmzawvit qvbmttqomvkm..\n",
      "\n",
      "   Decrypted sentence: The quick brown fox jumps over the lazy dog.\n",
      "\n",
      "   The cipher used in this case is a Caesar cipher with a shift of 8 letters for both the plaintext and the ciphertext alphabets (a to i). In this method, each letter of the plaintext is replaced by a letter 8 positions later in the alphabet (or, if the next letter would be a space, leave it as is or use the corresponding letter in the opposite direction, wrapping around from 'z' back to 'a'). For example, A (the first letter in the plaintext) shifts to N (the 8th letter of the alphabet), T (the second letter) shifts to R, and so on.\n"
     ]
    }
   ],
   "source": [
    "response = ollama.chat(model=\"mistral\", messages=[\n",
    "    {\"role\": \"user\", \"content\": f\"Decrypt this sentence: {to_decrypt[7]}.\\\n",
    "    Start your answer with sentence 'Encrypted sentence: ', then 'Decrypted sentence: ', write the decrypted sentence in quotation marks,\\\n",
    "    followed by an explanation of the cipher used and how it works.\\\n",
    "    The explanation should not use quotation marks. This is caesar cipher with 8 shift letter a to i when encoding.\"}\n",
    "])\n",
    "\n",
    "new = response['message']['content']\n",
    "print(f\"{new}\")"
   ]
  },
  {
   "cell_type": "code",
   "execution_count": 91,
   "id": "2f722114-10b5-4e15-aca3-951f963f121c",
   "metadata": {},
   "outputs": [
    {
     "data": {
      "text/plain": [
       "'The quick brown fox jumps over the lazy dog.'"
      ]
     },
     "execution_count": 91,
     "metadata": {},
     "output_type": "execute_result"
    }
   ],
   "source": [
    "answers.append(new)\n",
    "matches = re.findall(r\"Decrypted sentence:\\s*(.+)\", response['message']['content'])\n",
    "\n",
    "# Usuwamy zbędne spacje i dodajemy do listy\n",
    "decrypted_sentences.append(matches[0].strip())\n",
    "\n",
    "decrypted_sentences[7]"
   ]
  },
  {
   "cell_type": "markdown",
   "id": "f6927aba-7a2c-4707-ab23-65312c69db7d",
   "metadata": {},
   "source": [
    "# Howard Gardner's theory of multiple intelligences suggests that there are various types of intelligence, such as linguistic, logical-mathematical, and interpersonal intelligence.\n",
    "\n",
    "\n",
    "\n",
    "\n",
    "\n",
    "\n",
    "\n",
    "\n",
    "\n",
    "\n",
    "\n",
    "#\n"
   ]
  },
  {
   "cell_type": "markdown",
   "id": "3a3426cf-49ef-4070-8bab-05bc1c54142f",
   "metadata": {},
   "source": [
    "#### 9. zdanie"
   ]
  },
  {
   "cell_type": "code",
   "execution_count": 92,
   "id": "800e0c17-fbe2-43bb-bdea-482a03f95b74",
   "metadata": {},
   "outputs": [
    {
     "name": "stdout",
     "output_type": "stream",
     "text": [
      " Encrypted sentence: Ynxyun jan vxan urtnuh cx knurnen rwoxavjcrxw cqjc lxworavb cqnra yanngrbcrwp knurnob.\n",
      "\n",
      "   Decrypted sentence: Meet me at the blue house on the corner.\n",
      "\n",
      "   The Caesar Cipher is a type of substitution cipher where each letter in the plaintext is shifted a certain number of places down or up the alphabet. In this case, every letter was shifted 9 places down (since 'a' becomes 'y'). This encryption method is very basic and easy to break with modern computing power, but it can still provide some level of security if used carefully.\n"
     ]
    }
   ],
   "source": [
    "response = ollama.chat(model=\"mistral\", messages=[\n",
    "    {\"role\": \"user\", \"content\": f\"Decrypt this sentence: {to_decrypt[8]}.\\\n",
    "    Start your answer with sentence 'Encrypted sentence: ', then 'Decrypted sentence: ', write the decrypted sentence in quotation marks,\\\n",
    "    followed by an explanation of the cipher used and how it works.\\\n",
    "    The explanation should not use quotation marks. This is caesar cipher with 9 shift letter a to j when encoding.\"}\n",
    "])\n",
    "\n",
    "new = response['message']['content']\n",
    "print(f\"{new}\")"
   ]
  },
  {
   "cell_type": "code",
   "execution_count": 93,
   "id": "01d508dc-6d92-4c0e-86e3-0f600b77b962",
   "metadata": {},
   "outputs": [
    {
     "data": {
      "text/plain": [
       "'Meet me at the blue house on the corner.'"
      ]
     },
     "execution_count": 93,
     "metadata": {},
     "output_type": "execute_result"
    }
   ],
   "source": [
    "answers.append(new)\n",
    "matches = re.findall(r\"Decrypted sentence:\\s*(.+)\", response['message']['content'])\n",
    "\n",
    "# Usuwamy zbędne spacje i dodajemy do listy\n",
    "decrypted_sentences.append(matches[0].strip())\n",
    "\n",
    "decrypted_sentences[8]"
   ]
  },
  {
   "cell_type": "markdown",
   "id": "87aecc2a-df53-4110-a9cb-e8a12cd13967",
   "metadata": {},
   "source": [
    "# People are more likely to believe information that confirms their preexisting beliefs.\n",
    "\n",
    "\n",
    "\n",
    "\n",
    "\n",
    "\n",
    "\n",
    "\n",
    "\n",
    "#"
   ]
  },
  {
   "cell_type": "markdown",
   "id": "2a33278a-e31f-4498-9785-11cb242a5575",
   "metadata": {},
   "source": [
    "#### 10. zdanie"
   ]
  },
  {
   "cell_type": "code",
   "execution_count": 94,
   "id": "db69d979-c78e-41a1-b86d-d8a9c1f444b1",
   "metadata": {},
   "outputs": [
    {
     "name": "stdout",
     "output_type": "stream",
     "text": [
      " Encrypted sentence: Cvooz zvkic k uoi byvo sx wowybi myxcyvsnkdsyx, kxn sdc vkmu mkx vokn dy zbylvowc gsdr myxmoxdbkdsyx kxn vokbxsxq.\n",
      "\n",
      "   Decrypted sentence: Welcome to our new secret laboratory, where we will study strange and mysterious phenomena, together we will uncover secrets that have remained hidden for centuries.\n",
      "\n",
      "   The encryption used here is the Caesar Cipher with a shift of 10 letters. In this cipher, each letter in the plaintext (the original message) is replaced by a letter 10 positions down the alphabet. For example, 'A' would be replaced by 'K', and 'B' by 'L'. This method was named after Julius Caesar who used it for confidential communication. However, since it's a simple substitution cipher, it can be easily cracked with modern cryptography tools or by frequency analysis of the letters.\n"
     ]
    }
   ],
   "source": [
    "response = ollama.chat(model=\"mistral\", messages=[\n",
    "    {\"role\": \"user\", \"content\": f\"Decrypt this sentence: {to_decrypt[9]}.\\\n",
    "    Start your answer with sentence 'Encrypted sentence: ', then 'Decrypted sentence: ', write the decrypted sentence in quotation marks,\\\n",
    "    followed by an explanation of the cipher used and how it works.\\\n",
    "    The explanation should not use quotation marks. This is caesar cipher with 10 shift letter a to k when encoding.\"}\n",
    "])\n",
    "\n",
    "new = response['message']['content']\n",
    "print(f\"{new}\")"
   ]
  },
  {
   "cell_type": "code",
   "execution_count": 101,
   "id": "f08173f1-ed75-4acc-b345-7803b1168c2d",
   "metadata": {},
   "outputs": [
    {
     "data": {
      "text/plain": [
       "'Welcome to our new secret laboratory, where we will study strange and mysterious phenomena, together we will uncover secrets that have remained hidden for centuries.'"
      ]
     },
     "execution_count": 101,
     "metadata": {},
     "output_type": "execute_result"
    }
   ],
   "source": [
    "answers.append(new)\n",
    "matches = re.findall(r\"Decrypted sentence:\\s*(.+)\", response['message']['content'])\n",
    "\n",
    "# Usuwamy zbędne spacje i dodajemy do listy\n",
    "decrypted_sentences.append(matches[0].strip())\n",
    "\n",
    "decrypted_sentences[9]"
   ]
  },
  {
   "cell_type": "markdown",
   "id": "36e9dbb4-860a-4000-a7c2-cf8fda342743",
   "metadata": {},
   "source": [
    "# Sleep plays a key role in memory consolidation, and its lack can lead to problems with concentration and learning.\n",
    "\n",
    "\n",
    "\n",
    "\n",
    "\n",
    "\n",
    "\n",
    "\n",
    "\n",
    "#"
   ]
  },
  {
   "cell_type": "markdown",
   "id": "85c7abc8-8f05-42f9-b92d-f5a5c669c705",
   "metadata": {},
   "source": [
    "#\n",
    "\n",
    "\n",
    "\n",
    "\n",
    "#"
   ]
  },
  {
   "cell_type": "markdown",
   "id": "f2367c5d-b7e4-4ff5-9559-cc22e868e671",
   "metadata": {},
   "source": [
    "# Podsumowanie"
   ]
  },
  {
   "cell_type": "markdown",
   "id": "9b1bf135-badf-45fe-9855-42c3d3582037",
   "metadata": {},
   "source": [
    "Zdanie o numerze \"i\" było zakodowane Szyfrem Cezara o shifcie równym \"i\"."
   ]
  },
  {
   "cell_type": "markdown",
   "id": "1ab2575d-c6f4-402d-b281-5d65f4f75351",
   "metadata": {},
   "source": [
    "# Tak odpowiedział model"
   ]
  },
  {
   "cell_type": "code",
   "execution_count": 105,
   "id": "e80889d7-a8d0-42c3-880d-16fca02f2399",
   "metadata": {},
   "outputs": [
    {
     "data": {
      "text/plain": [
       "[\" Encrypted sentence: Uif qmbdfcp fggfdu jt b qifopnfopo jo xijdi qfpqmf fyqfsjfodf bo jnqspwfnfou jo ifbmui bgufs ubljoh b tvctubodf xjui op nfejdjobm qspqfsujft cfdbvtf uifz cfmjfwf ju xpslt.\\n   Decrypted sentence: Meet me at the old park by the river on Friday at 5 PM.\\n   The Caesar Cipher is a type of substitution cipher where each letter in the plaintext is 'shifted' a certain number of places down (or up) the alphabet. In this case, the shift was one place (a -> b), which makes it a Caesar Cipher with a 1-letter shift. This simple encryption method can be easily broken if the shift is known or discovered, as in this example where the repeating pattern of letters hints at the single-letter shift.\",\n",
       " \" Encrypted sentence: Vjg jwocp dtckp ku pgwtqrncuvke, yjkej ogcpu kv ecp ejcpig cpf cfcrv vjtqwijqwv nkhg kp tgurqpug vq gzrgtkgpegu.\\n\\n   Decrypted sentence: We are having a meeting tomorrow at 3pm in the conference room.\\n\\n   The encryption used is the Caesar Cipher, specifically a shift of 2 letters for each letter in the message (a to c when encoding). This means that each letter in the original message was replaced with the third letter following it in the alphabet. For example, 'A' becomes 'C', 'B' becomes 'D', and so on.\",\n",
       " \" Encrypted sentence: Wkh Plojudp hashulphqw vkrzhg wkdw shrsoh duh zloolqj wr rehb dxwkrulwb hyhq zkhq wkhlu dfwlrqv pdb kdup rwkhuv\\n\\n   Decrypted sentence: We love apple cars very much as they are reliable and durable vehicles.\\n\\n   The cipher used here is the Caesar Cipher, a type of substitution cipher where each letter in the plaintext (clear text) is shifted a certain number of places down the alphabet. In this case, the shift was 3 positions for every letter a to d during encoding. For example, A becomes D, B becomes E, and so on. The Caesar Cipher is one of the simplest forms of encryption, but it's not considered secure for modern uses because it can easily be broken by frequency analysis or brute force methods.\",\n",
       " \" Encrypted sentence: Xli fcwxerhiv ijjigx qeoiw tistpi piww pmoipc xs sjjiv lipt alir qsvi tistpi evi evsyrh—xlic ewwyqi xlex wsqisri ipwi ampp hs mx.\\n\\n   Decrypted sentence: Meet at the park tomorrow at 3 PM sharp.\\n\\n   The cipher used here is Caesar Cipher, a type of substitution cipher where each letter in the plaintext is 'shifted' a certain number of places down (or up) the alphabet. In this case, every letter was shifted 4 places down, which means 'A' becomes 'E', 'B' becomes 'F', and so on. The spaces between words were maintained in the encryption process. This method is very basic and easy to break with modern computing power but was once a secure way of transmitting messages during wartime or other sensitive communications.\",\n",
       " \" Encrypted sentence: Ujtuqj wjrjrgjw ymj gjlnssnsl fsi jsi tk f qnxy tk nsktwrfynts gjyyjw, bmnhm nx pstbs fx ymj uwnrfhd jkkjhy fsi ymj wjhjshd jkkjhy..\\n\\n   Decrypted sentence: Hello world this is a test message for you.\\n\\n   The cipher used here is Caesar Cipher, a type of substitution cipher where each letter in the plaintext is replaced by a letter some fixed number of positions down (or occasionally up) the alphabet. In this specific case, the shift was 5 letters ahead from 'A' to 'F'. For example, A becomes F, B becomes G, and so on. This method is named after Julius Caesar, who used it to send secret messages. However, because the same shift is used for every letter, it is relatively easy to decipher with modern methods and is not considered secure for actual encryption purposes.\",\n",
       " \" Encrypted sentence: Vxurutmkj yzxkyy igt rkgj zu nkgrzn vxuhrksy yain gy nkgxz joykgyk, g ckgqktkj ossatk yeyzks, gtj jkvxkyyout.\\n\\n   Decrypted sentence: The quick brown fox jumps over the lazy dog, the cow jumped over the moon, the little pig ran quickly.\\n\\n   Explanation of the cipher used and how it works: This is a Caesar Cipher with a shift of 6 letters. Each letter in the original text was shifted forward by 6 places in the alphabet. For example, 'A' becomes 'F', 'B' becomes 'G', and so on. Capital letters are treated the same as lowercase letters in this cipher. It is a simple substitution cipher that provides a rudimentary form of encryption. The name derives from Julius Caesar's use of it for encrypted messages, known as ciphertext. To decrypt a message, you would shift each letter backward by 6 places in the alphabet.\",\n",
       " \" Encrypted sentence: Ltvapvuz pumsblujl jvnupapcl wyvjlzzlz zbjo hz tltvyf huk kljpzpvu-thrpun—zayvun zaylzz jhu opukly svnpjhs aopurpun.\\n\\n   Decrypted sentence: Meet me at the park tomorrow, I will bring you a book.\\n\\n   The cipher used here is the Caesar Cipher, a type of substitution cipher where each letter in the plaintext (original message) is 'shifted' a certain number of positions down or up in the alphabet. In this case, each letter was shifted 7 positions forward in the alphabet when encoding the message (which means that A becomes L, B becomes M, and so on). The cipher works by always applying the same shift to every letter, ensuring that the same plaintext always produces the same ciphertext.\",\n",
       " \" Encrypted sentence: Pweizl Oizlvmz'a bpmwzg wn uctbqxtm qvbmttqomvkma acoomaba bpib bpmzm izm dizqwca bgxma wn qvbmttqomvkm, ackp ia tqvocqabqk, twoqkit-uibpmuibqkit, ivl qvbmzxmzawvit qvbmttqomvkm..\\n\\n   Decrypted sentence: The quick brown fox jumps over the lazy dog.\\n\\n   The cipher used in this case is a Caesar cipher with a shift of 8 letters for both the plaintext and the ciphertext alphabets (a to i). In this method, each letter of the plaintext is replaced by a letter 8 positions later in the alphabet (or, if the next letter would be a space, leave it as is or use the corresponding letter in the opposite direction, wrapping around from 'z' back to 'a'). For example, A (the first letter in the plaintext) shifts to N (the 8th letter of the alphabet), T (the second letter) shifts to R, and so on.\",\n",
       " \" Encrypted sentence: Ynxyun jan vxan urtnuh cx knurnen rwoxavjcrxw cqjc lxworavb cqnra yanngrbcrwp knurnob.\\n\\n   Decrypted sentence: Meet me at the blue house on the corner.\\n\\n   The Caesar Cipher is a type of substitution cipher where each letter in the plaintext is shifted a certain number of places down or up the alphabet. In this case, every letter was shifted 9 places down (since 'a' becomes 'y'). This encryption method is very basic and easy to break with modern computing power, but it can still provide some level of security if used carefully.\",\n",
       " \" Encrypted sentence: Cvooz zvkic k uoi byvo sx wowybi myxcyvsnkdsyx, kxn sdc vkmu mkx vokn dy zbylvowc gsdr myxmoxdbkdsyx kxn vokbxsxq.\\n\\n   Decrypted sentence: Welcome to our new secret laboratory, where we will study strange and mysterious phenomena, together we will uncover secrets that have remained hidden for centuries.\\n\\n   The encryption used here is the Caesar Cipher with a shift of 10 letters. In this cipher, each letter in the plaintext (the original message) is replaced by a letter 10 positions down the alphabet. For example, 'A' would be replaced by 'K', and 'B' by 'L'. This method was named after Julius Caesar who used it for confidential communication. However, since it's a simple substitution cipher, it can be easily cracked with modern cryptography tools or by frequency analysis of the letters.\"]"
      ]
     },
     "execution_count": 105,
     "metadata": {},
     "output_type": "execute_result"
    }
   ],
   "source": [
    "answers"
   ]
  },
  {
   "cell_type": "markdown",
   "id": "a9cd976a-e67a-478f-bb39-690c1f45b853",
   "metadata": {},
   "source": [
    "# Wyniki"
   ]
  },
  {
   "cell_type": "code",
   "execution_count": 102,
   "id": "62097d11-f194-44fa-ba94-0d37dc5af83d",
   "metadata": {},
   "outputs": [
    {
     "name": "stdout",
     "output_type": "stream",
     "text": [
      "1: Meet me at the old park by the river on Friday at 5 PM.\n",
      "2: We are having a meeting tomorrow at 3pm in the conference room.\n",
      "3: We love apple cars very much as they are reliable and durable vehicles.\n",
      "4: Meet at the park tomorrow at 3 PM sharp.\n",
      "5: Hello world this is a test message for you.\n",
      "6: The quick brown fox jumps over the lazy dog, the cow jumped over the moon, the little pig ran quickly.\n",
      "7: Meet me at the park tomorrow, I will bring you a book.\n",
      "8: The quick brown fox jumps over the lazy dog.\n",
      "9: Meet me at the blue house on the corner.\n",
      "10: Welcome to our new secret laboratory, where we will study strange and mysterious phenomena, together we will uncover secrets that have remained hidden for centuries.\n"
     ]
    }
   ],
   "source": [
    "for i, sentence in enumerate(decrypted_sentences):\n",
    "    print(f'{i+1}: {sentence}')"
   ]
  },
  {
   "cell_type": "markdown",
   "id": "df853bf1-89f2-4af4-9c35-fccfbb85032b",
   "metadata": {},
   "source": [
    "# Poprawne zdania"
   ]
  },
  {
   "cell_type": "markdown",
   "id": "c9678a99-d44c-4787-ab3a-b1f8504fc528",
   "metadata": {},
   "source": [
    "1. The placebo effect is a phenomenon in which people experience an improvement in health after taking a substance with no medicinal properties because they believe it works.\n",
    "2. The human brain is neuroplastic, which means it can change and adapt throughout life in response to experiences.\n",
    "3. The Milgram experiment showed that people are willing to obey authority even when their actions may harm others.\n",
    "4. The bystander effect makes people less likely to offer help when more people are around—they assume that someone else will do it.\n",
    "5. People remember the beginning and end of a list of information better, which is known as the primacy effect and the recency effect.\n",
    "6. Prolonged stress can lead to health problems such as heart disease, a weakened immune system, and depression.\n",
    "7. Emotions influence cognitive processes such as memory and decision-making—strong stress can hinder logical thinking.\n",
    "8. Howard Gardner's theory of multiple intelligences suggests that there are various types of intelligence, such as linguistic, logical-mathematical, and interpersonal intelligence.\n",
    "9. People are more likely to believe information that confirms their preexisting beliefs.\n",
    "10. Sleep plays a key role in memory consolidation, and its lack can lead to problems with concentration and learning."
   ]
  },
  {
   "cell_type": "markdown",
   "id": "7225ee99-4a28-4859-900f-afea4ea6900b",
   "metadata": {},
   "source": [
    "# Załadowanie do pliku txt"
   ]
  },
  {
   "cell_type": "code",
   "execution_count": 106,
   "id": "0f521d6a-e8fb-4ace-8491-1c3fdb74500d",
   "metadata": {},
   "outputs": [],
   "source": [
    "with open(\"answers_mistral.txt\", \"w\") as file:\n",
    "    for sentence in decrypted_sentences:\n",
    "        file.write(sentence + \"\\n\")"
   ]
  },
  {
   "cell_type": "code",
   "execution_count": 132,
   "id": "c13d7bd5-a775-4afc-95e7-b0f28fdd1720",
   "metadata": {},
   "outputs": [],
   "source": [
    "response = ollama.chat(\n",
    "    model=\"mistral\",\n",
    "    messages=[\n",
    "        {\"role\": \"user\", \"content\": f\"Decrypt this sentence: {to_decrypt[9]}.\\\n",
    "        Start your answer with sentence 'Encrypted sentence: ', then 'Decrypted sentence: ', write the decrypted sentence in quotation marks,\\\n",
    "        followed by an explanation of the cipher used and how it works.\\\n",
    "        The explanation should not use quotation marks. This is caesar cipher with 10 shift letter a to k when encoding, so if you have letter 'k',\\\n",
    "        you should decrypt this as 'a', letter 'l' decrypt as 'b', if you have letter 'c' decrypt that as 's' etc. Once more:\\\n",
    "        caesar shift with 10 shift letter, think carefully. Here's the alphabet: abcdefghijklmnopqrstuvwxyz\"}\n",
    "    ],\n",
    "    options={\n",
    "        \"temperature\": 0.0,  # Obniżenie temperatury dla bardziej deterministycznych odpowiedzi\n",
    "        \"top_p\": 0.4,        # Utrzymanie pewnej różnorodności odpowiedzi\n",
    "        \"top_k\": 50,         # Ograniczenie wyboru do najbardziej prawdopodobnych tokenów\n",
    "        \"max_tokens\": 300     # Ograniczenie długości odpowiedzi, aby uniknąć długich halucynacji\n",
    "    }\n",
    ")"
   ]
  },
  {
   "cell_type": "code",
   "execution_count": 133,
   "id": "6d41f535-bfcf-44d2-b3d0-8498756f189f",
   "metadata": {},
   "outputs": [
    {
     "name": "stdout",
     "output_type": "stream",
     "text": [
      " Encrypted sentence: Cvooz zvkic k uoi byvo sx wowybi myxcyvsnkdsyx, kxn sdc vkmu mkx vokn dy zbylvowc gsdr myxmoxdbkdsyx kxn vokbxsxq.\n",
      "\n",
      "   Decrypted sentence: We have found the secret message, but it seems to be corrupted or incomplete. The cipher used here is Caesar Cipher with a shift of 10 letters. In this cipher, each letter in the plaintext (the original message) is shifted forward by a certain number of positions in the alphabet. For example, if we have an encrypted letter 'k', it should be decrypted as 'a' because 'k' is 10 positions after 'a'. Similarly, 'l' becomes 'b', 'c' becomes 's', and so on. However, since the shift wraps around to the beginning of the alphabet after 'z', 'd' encrypts as 'n' and 'e' encrypts as 'o'. The decrypted message seems incomplete because some letters might have been lost or misplaced during transmission.\n"
     ]
    }
   ],
   "source": [
    "new = response['message']['content']\n",
    "print(f\"{new}\")"
   ]
  },
  {
   "cell_type": "markdown",
   "id": "71696ca5-f2a5-4a11-9c77-b433ff20ee70",
   "metadata": {},
   "source": [
    "# Zadanie funkcją w Python"
   ]
  },
  {
   "cell_type": "code",
   "execution_count": 126,
   "id": "71331f5b-20da-490a-8207-7d36c6a3e31e",
   "metadata": {},
   "outputs": [],
   "source": [
    "def caesar_decrypt(text, shift):\n",
    "    alphabet = string.ascii_lowercase  # \"abcdefghijklmnopqrstuvwxyz\"\n",
    "    shifted_alphabet = alphabet[shift:] + alphabet[:shift]  # np. shift=3, to \"defghijklmnopqrstuvwxyz\" + \"abc\"\n",
    "    table = str.maketrans(shifted_alphabet + shifted_alphabet.upper(), alphabet + alphabet.upper())\n",
    "    # np. shift=3 i mamy \"defghijklmnopqrstuvwxyzabc\"  →  \"abcdefghijklmnopqrstuvwxyz\"\n",
    "    return text.translate(table)\n",
    "\n",
    "def decrypt_homework_file(input_file=\"homework_1_ang.txt\", output_file=\"right_answers.txt\"):\n",
    "    decrypted_lines = []\n",
    "    \n",
    "    with open(input_file, \"r\", encoding=\"utf-8\") as file:\n",
    "        lines = file.readlines()\n",
    "\n",
    "    for i, line in enumerate(lines):\n",
    "        shift = i + 1  # Shift rośnie od 1 do 10\n",
    "        decrypted_line = caesar_decrypt(line.strip(), shift)\n",
    "        decrypted_lines.append(decrypted_line)\n",
    "        print(f\"Line {i+1} (Shift {shift}): {decrypted_line}\")\n",
    "\n",
    "    with open(output_file, \"w\", encoding=\"utf-8\") as file:\n",
    "        file.write(\"\\n\".join(decrypted_lines))\n",
    "\n",
    "    print(f\"\\nDecrypted text saved to {output_file}\")"
   ]
  },
  {
   "cell_type": "code",
   "execution_count": 127,
   "id": "7e9de97e-a2eb-4313-8ff8-58b88a60080e",
   "metadata": {},
   "outputs": [
    {
     "name": "stdout",
     "output_type": "stream",
     "text": [
      "Line 1 (Shift 1): The placebo effect is a phenomenon in which people experience an improvement in health after taking a substance with no medicinal properties because they believe it works.\n",
      "Line 2 (Shift 2): The human brain is neuroplastic, which means it can change and adapt throughout life in response to experiences.\n",
      "Line 3 (Shift 3): The Milgram experiment showed that people are willing to obey authority even when their actions may harm others.\n",
      "Line 4 (Shift 4): The bystander effect makes people less likely to offer help when more people are around—they assume that someone else will do it.\n",
      "Line 5 (Shift 5): People remember the beginning and end of a list of information better, which is known as the primacy effect and the recency effect.\n",
      "Line 6 (Shift 6): Prolonged stress can lead to health problems such as heart disease, a weakened immune system, and depression.\n",
      "Line 7 (Shift 7): Emotions influence cognitive processes such as memory and decision-making—strong stress can hinder logical thinking.\n",
      "Line 8 (Shift 8): Howard Gardner's theory of multiple intelligences suggests that there are various types of intelligence, such as linguistic, logical-mathematical, and interpersonal intelligence.\n",
      "Line 9 (Shift 9): People are more likely to believe information that confirms their preexisting beliefs.\n",
      "Line 10 (Shift 10): Sleep plays a key role in memory consolidation, and its lack can lead to problems with concentration and learning.\n",
      "\n",
      "Decrypted text saved to right_answers.txt\n"
     ]
    }
   ],
   "source": [
    "decrypt_homework_file()"
   ]
  }
 ],
 "metadata": {
  "kernelspec": {
   "display_name": "Python 3 (ipykernel)",
   "language": "python",
   "name": "python3"
  },
  "language_info": {
   "codemirror_mode": {
    "name": "ipython",
    "version": 3
   },
   "file_extension": ".py",
   "mimetype": "text/x-python",
   "name": "python",
   "nbconvert_exporter": "python",
   "pygments_lexer": "ipython3",
   "version": "3.8.19"
  }
 },
 "nbformat": 4,
 "nbformat_minor": 5
}
