{
 "cells": [
  {
   "cell_type": "code",
   "execution_count": 1,
   "metadata": {},
   "outputs": [],
   "source": [
    "from openai import OpenAI\n",
    "from IPython.display import display, Markdown, clear_output\n",
    "import time"
   ]
  },
  {
   "cell_type": "code",
   "execution_count": 2,
   "metadata": {},
   "outputs": [],
   "source": [
    "with open('./api_key.txt', 'r') as file:\n",
    "    API_KEY = file.read()\n"
   ]
  },
  {
   "cell_type": "markdown",
   "metadata": {},
   "source": [
    "# Decryption in English"
   ]
  },
  {
   "cell_type": "code",
   "execution_count": 5,
   "metadata": {},
   "outputs": [],
   "source": [
    "cipher_text = []\n",
    "with open(\"../homework_1_ang.txt\", 'r') as file:\n",
    "    cipher_text = file.readlines()    "
   ]
  },
  {
   "cell_type": "code",
   "execution_count": 6,
   "metadata": {},
   "outputs": [],
   "source": [
    "client = OpenAI(api_key=API_KEY, base_url=\"https://api.deepseek.com\")"
   ]
  },
  {
   "cell_type": "code",
   "execution_count": 7,
   "metadata": {},
   "outputs": [],
   "source": [
    "if \"conversation_history\" not in globals():\n",
    "    conversation_history = [\n",
    "        {\"role\": \"system\", \"content\": \"You are a world class Cryptographer that specializes in Cezars codes\"}\n",
    "    ]"
   ]
  },
  {
   "cell_type": "code",
   "execution_count": null,
   "metadata": {},
   "outputs": [],
   "source": [
    "def chat_with_deepseek(user_input, temperature=0.7, max_history_length=10, clear_history=False):\n",
    "    global conversation_history  \n",
    "\n",
    "    # Clear history if requested\n",
    "    if clear_history:\n",
    "        conversation_history = [\n",
    "            {\"role\": \"system\", \"content\": \"You are a world class Cryptographer that specializes in Cezars codes\"}\n",
    "        ]\n",
    "\n",
    "    # Add user input to history\n",
    "    conversation_history.append({\"role\": \"user\", \"content\": user_input})\n",
    "\n",
    "    # Ensure conversation history does not exceed the maximum length\n",
    "    if len(conversation_history) > max_history_length:\n",
    "        conversation_history = conversation_history[-max_history_length:]\n",
    "    \n",
    "    \n",
    "    # If there was running cell was stopped a problem with conversation history emerges\n",
    "    if len(conversation_history) >= 2:\n",
    "        last_message = conversation_history[-1]\n",
    "        second_last_message = conversation_history[-2]\n",
    "        if last_message[\"role\"] == second_last_message[\"role\"]:\n",
    "            # Remove the second last message to fix the issue\n",
    "            print(\"Warning: Two consecutive messages from the same role detected. Removing the second last message.\")\n",
    "            conversation_history.pop(-2)\n",
    "\n",
    "    try:\n",
    "        \n",
    "        response_stream = client.chat.completions.create(\n",
    "            model=\"deepseek-reasoner\", # \"deepseek-chat\" or \"deepseek-reasoner\"\n",
    "            messages=conversation_history,\n",
    "            stream=True,\n",
    "            temperature=temperature  \n",
    "        )\n",
    "\n",
    "        # Display response in real-time\n",
    "        full_response = []\n",
    "        for chunk in response_stream:\n",
    "            if chunk.choices[0].delta.content:\n",
    "                chunk_content = chunk.choices[0].delta.content\n",
    "                full_response.append(chunk_content)\n",
    "                # Display the chunk as Markdown\n",
    "                clear_output(wait=True)  # Clear the previous output\n",
    "                display(Markdown(\"\".join(full_response)))  # Display the updated response\n",
    "                time.sleep(0.05)  # Small delay to simulate real-time streaming\n",
    "\n",
    "        conversation_history.append({\"role\": \"assistant\", \"content\": \"\".join(full_response)})\n",
    "\n",
    "    except Exception as e:\n",
    "        # Handle any errors that occur during the API call\n",
    "        error_message = f\"An error occurred: {e}\"\n",
    "        display(Markdown(f\"**Error:** {error_message}\"))\n",
    "\n",
    "    return "
   ]
  },
  {
   "cell_type": "markdown",
   "metadata": {},
   "source": [
    "## Conversation with Deepseek"
   ]
  },
  {
   "cell_type": "markdown",
   "metadata": {},
   "source": [
    "I will try to do zero-shot responses with deepseek reasoner."
   ]
  },
  {
   "cell_type": "code",
   "execution_count": 9,
   "metadata": {},
   "outputs": [
    {
     "data": {
      "text/markdown": [
       "The deciphered text using a Caesar cipher with a shift of 1 (each letter shifted backward by 1 position) is:\n",
       "\n",
       "**\"The placebo effect is a phenomenon in which people experience an improvement in health after taking a substance with no medicinal properties because they believe it works.\"**\n",
       "\n",
       "---\n",
       "\n",
       "**Explanation:**  \n",
       "- The Caesar cipher shifts each letter by a fixed number. Here, the shift was **+1** (encrypted by shifting letters forward by 1).  \n",
       "- To decrypt, letters are shifted **backward by 1** (e.g., \"U\" → \"T\", \"q\" → \"p\", etc.).  \n",
       "- The message describes the **placebo effect**, where perceived benefits arise from belief in a non-medicinal substance."
      ],
      "text/plain": [
       "<IPython.core.display.Markdown object>"
      ]
     },
     "metadata": {},
     "output_type": "display_data"
    }
   ],
   "source": [
    "chat_with_deepseek(\"Decipher this code: \" + cipher_text[0])"
   ]
  },
  {
   "cell_type": "code",
   "execution_count": 10,
   "metadata": {},
   "outputs": [
    {
     "data": {
      "text/markdown": [
       "The given ciphertext is encrypted using a Caesar cipher with a shift of **2 letters forward**. To decrypt, each letter is shifted **2 positions backward** in the alphabet. Here's the decrypted text:\n",
       "\n",
       "---\n",
       "\n",
       "**Plaintext:**  \n",
       "\"The human brain is neuroplastic, which means it can change and adapt throughout life in response to experiences.\"\n",
       "\n",
       "---\n",
       "\n",
       "**Step-by-Step Explanation:**  \n",
       "1. **Identify the shift**: Common Caesar shifts (e.g., 2, 3) are tested first.  \n",
       "2. **Test shift = 2 backward**:  \n",
       "   - Example:  \n",
       "     - V → T  \n",
       "     - J → H  \n",
       "     - G → E  \n",
       "     - Result: \"The\" (first word confirmed).  \n",
       "3. **Decrypt the entire text**: Apply the shift consistently to all letters.  \n",
       "4. **Result**: A coherent sentence about neuroplasticity emerges.  \n",
       "\n",
       "This method confirms the shift and reveals the message."
      ],
      "text/plain": [
       "<IPython.core.display.Markdown object>"
      ]
     },
     "metadata": {},
     "output_type": "display_data"
    }
   ],
   "source": [
    "chat_with_deepseek(\"Decipher this code: \" + cipher_text[1], clear_history=True)"
   ]
  },
  {
   "cell_type": "code",
   "execution_count": 11,
   "metadata": {},
   "outputs": [
    {
     "data": {
      "text/markdown": [
       "The deciphered text using a Caesar cipher with a shift of 3 (each letter shifted backward by 3 positions in the alphabet) is:\n",
       "\n",
       "**\"The Milgram experiment showed that people are willing to obey authority even when their actions may harm others.\"**\n",
       "\n",
       "---\n",
       "\n",
       "### Explanation:\n",
       "- **Shift Rule**: Subtract 3 from each letter (e.g., `W → T`, `K → H`, `H → E`).\n",
       "- **Notable Fixes**: \n",
       "  - \"Plojrudp\" decrypts to \"Migram\" (intended as **Milgram**, referencing psychologist Stanley Milgram).\n",
       "  - \"hashulphqw\" becomes \"experiment\" (corrected to **experiment**).\n",
       "- **Key Insight**: The text references the **Milgram obedience experiment**, a famous study on authority and ethical behavior."
      ],
      "text/plain": [
       "<IPython.core.display.Markdown object>"
      ]
     },
     "metadata": {},
     "output_type": "display_data"
    }
   ],
   "source": [
    "chat_with_deepseek(\"Decipher this code: \" + cipher_text[2], clear_history=True)"
   ]
  },
  {
   "cell_type": "code",
   "execution_count": 12,
   "metadata": {},
   "outputs": [
    {
     "data": {
      "text/markdown": [
       "The cipher is a Caesar cipher with a shift of **4** (each letter is shifted 4 positions backward in the alphabet). Here's the decrypted message:\n",
       "\n",
       "---\n",
       "\n",
       "**Decrypted Text:**  \n",
       "\"The bystander effect makes people less likely to offer help when more people are around—they assume that someone else will do it.\"\n",
       "\n",
       "---\n",
       "\n",
       "### Explanation:\n",
       "1. **Shift Identification**: The first word \"Xli\" decrypts to \"The\" when shifted back by 4 letters (`X → T`, `L → H`, `I → E`), confirming the shift value.\n",
       "2. **Full Decryption**:  \n",
       "   - **Key phrase**: \"Xli fcwxerhiv...\" → \"The bystander effect...\"  \n",
       "   - **Final Sentence**: Reflects the psychological phenomenon where individuals are less likely to act in emergencies when others are present, assuming someone else will intervene.\n",
       "\n",
       "This aligns with the well-known **bystander effect** in social psychology."
      ],
      "text/plain": [
       "<IPython.core.display.Markdown object>"
      ]
     },
     "metadata": {},
     "output_type": "display_data"
    }
   ],
   "source": [
    "chat_with_deepseek(\"Deciper this code: \"+ cipher_text[3], clear_history=True)"
   ]
  },
  {
   "cell_type": "code",
   "execution_count": 13,
   "metadata": {},
   "outputs": [
    {
     "data": {
      "text/markdown": [
       "The deciphered text using a Caesar cipher with a shift of 5 (each letter shifted backward by 5 positions) is:\n",
       "\n",
       "**\"People remember the beginning and end of a list of information better, which is known as the primacy effect and the recency effect.\"**\n",
       "\n",
       "---\n",
       "\n",
       "### Explanation:\n",
       "1. **Shift Identification**: The cipher uses a **shift of 5** (e.g., ciphertext `j` → plaintext `e`, `u` → `p`).\n",
       "2. **Key Observations**:\n",
       "   - Common English patterns (e.g., `ymj` → `the`, `fsi` → `and`, `tk` → `of`).\n",
       "   - Psychological terms \"primacy effect\" and \"recency effect\" fit the context of remembering list items.\n",
       "\n",
       "### Step-by-Step Decryption:\n",
       "- **Ciphertext**: `Ujtuqj wjrjrgjw ymj gjlnssnsl fsi jsi tk f qnxy tk nsktwrfynts gjyyjw, bmnhm nx pstbs fx ymj uwnrfhd jkkjhy fsi ymj wjhjshd jkkjhy.`\n",
       "- **Plaintext**:\n",
       "  - **Shift by 5**: Each letter is mapped backward (e.g., `U` → `P`, `j` → `e`).\n",
       "  - Full translation reveals the sentence about memory effects in psychology. \n",
       "\n",
       "This result aligns with the **serial position effect**, where people recall the first (primacy) and last (recency) items in a sequence most accurately."
      ],
      "text/plain": [
       "<IPython.core.display.Markdown object>"
      ]
     },
     "metadata": {},
     "output_type": "display_data"
    }
   ],
   "source": [
    "chat_with_deepseek(\"Deciper this code: \"+ cipher_text[4], clear_history=True)"
   ]
  },
  {
   "cell_type": "code",
   "execution_count": 14,
   "metadata": {},
   "outputs": [
    {
     "data": {
      "text/markdown": [
       "The decrypted message using a Caesar cipher with a shift of **6** is:\n",
       "\n",
       "**\"Prolonged stress can lead to health problems such as heart disease, a weakened immune system, and depression.\"**\n",
       "\n",
       "---\n",
       "\n",
       "### Step-by-Step Explanation:\n",
       "1. **Identify the cipher type**: Caesar cipher (shift substitution).\n",
       "2. **Guess the shift**:\n",
       "   - Analyze short words (e.g., \"gtj\" → \"and\" implies shift **6**).\n",
       "   - Verify with other words (e.g., \"Vxurutmkj\" → \"Prolonged\").\n",
       "3. **Decrypt each letter** by shifting backward by 6 positions:\n",
       "   - Example: `V → P`, `x → R`, `u → O`, etc.\n",
       "4. **Reconstruct the full plaintext**:\n",
       "   - Addresses the health impacts of chronic stress, including heart disease, immune weakness, and depression.\n",
       "\n",
       "Shift **6** successfully deciphers the text into a coherent message."
      ],
      "text/plain": [
       "<IPython.core.display.Markdown object>"
      ]
     },
     "metadata": {},
     "output_type": "display_data"
    }
   ],
   "source": [
    "chat_with_deepseek(\"Deciper this code: \"+ cipher_text[5], clear_history=True)"
   ]
  },
  {
   "cell_type": "code",
   "execution_count": 15,
   "metadata": {},
   "outputs": [
    {
     "data": {
      "text/markdown": [
       "The encrypted message uses a Caesar cipher with a shift of 7 (or equivalently, a shift of +19 for encryption). Here's the decrypted text:\n",
       "\n",
       "**Decrypted Message:**  \n",
       "\"Emotions influence cognitive processes such as memory and decision-making—strong stress can hinder logical thinking.\"\n",
       "\n",
       "---\n",
       "\n",
       "**Step-by-Step Explanation:**  \n",
       "1. **Identify the Shift:**  \n",
       "   - The ciphertext includes patterns like \"thrpun\" decrypting to \"making\" (shift 7) and \"kljpzpvu\" becoming \"decision,\" confirming a **shift of 7** (or +19 for encryption).\n",
       "\n",
       "2. **Decrypt Each Letter:**  \n",
       "   - Shift every letter backward by 7 positions. For example:  \n",
       "     - `L → E`, `t → M`, `v → O`, etc.  \n",
       "     - Punctuation and spaces remain unchanged.\n",
       "\n",
       "3. **Reconstruct the Message:**  \n",
       "   - After decrypting all words, the message reveals a coherent statement about cognitive psychology:  \n",
       "     > Emotions influence cognitive processes such as memory and decision-making—strong stress can hinder logical thinking.  \n",
       "\n",
       "This decryption aligns with the Caesar cipher method, demonstrating how shifting letters systematically recovers the original text."
      ],
      "text/plain": [
       "<IPython.core.display.Markdown object>"
      ]
     },
     "metadata": {},
     "output_type": "display_data"
    }
   ],
   "source": [
    "chat_with_deepseek(\"Deciper this code: \"+ cipher_text[6], clear_history=True)"
   ]
  },
  {
   "cell_type": "code",
   "execution_count": 16,
   "metadata": {},
   "outputs": [
    {
     "data": {
      "text/markdown": [
       "The given ciphertext is encrypted using a Caesar cipher with a **shift of +18** (or equivalently, a shift of -8). Here's the decrypted text:\n",
       "\n",
       "---\n",
       "\n",
       "**Decrypted Message:**  \n",
       "\"Howard Gardner's theory of multiple intelligences suggests that there are various types of intelligences, such as linguistic, logical-mathematical, and interpersonal intelligences.\"\n",
       "\n",
       "---\n",
       "\n",
       "**Step-by-Step Explanation:**  \n",
       "1. **Identify Common Patterns:**  \n",
       "   - The repeated trigram \"bpm\" decrypts to \"the\" (shifted by +18).  \n",
       "   - \"qvbmttqomvkm\" becomes \"intelligences\" after applying the shift.  \n",
       "\n",
       "2. **Shift Calculation:**  \n",
       "   - Letters are shifted forward by **18 positions** (e.g., `P → C`, `W → J`, `E → R`).  \n",
       "   - Example: `P (16) + 18 = 34 → 34 - 26 = 8 → H`.  \n",
       "\n",
       "3. **Full Decryption:**  \n",
       "   - For example, \"Pweizl Oizlvmz'a\" becomes \"Howard Gardner's,\" and \"uctbqxtm\" becomes \"multiple.\"  \n",
       "\n",
       "**Key Insight:**  \n",
       "The text references Howard Gardner's **Theory of Multiple Intelligences**, aligning with terms like \"linguistic,\" \"logical-mathematical,\" and \"interpersonal.\" The shift of +18 consistently maps all ciphertext letters to their plaintext equivalents."
      ],
      "text/plain": [
       "<IPython.core.display.Markdown object>"
      ]
     },
     "metadata": {},
     "output_type": "display_data"
    }
   ],
   "source": [
    "chat_with_deepseek(\"Deciper this code: \"+ cipher_text[7], clear_history=True)"
   ]
  },
  {
   "cell_type": "code",
   "execution_count": 17,
   "metadata": {},
   "outputs": [
    {
     "data": {
      "text/markdown": [
       "The ciphertext provided uses a Caesar cipher with a shift of **9 positions backward** (or equivalently, 17 positions forward). Here's the decrypted message:\n",
       "\n",
       "---\n",
       "\n",
       "**Decrypted Text:**  \n",
       "\"PEOPLE ARE MORE LIKELY TO BELIEVE INFORMATION THAT CONFIRMS THEIR PREEXISTING BELIEFS.\"\n",
       "\n",
       "---\n",
       "\n",
       "**Step-by-Step Explanation:**  \n",
       "1. **Identify the Shift:**  \n",
       "   - By analyzing letter frequency (e.g., 'n' likely maps to 'e'), we determined a shift of **9 backward** (since 'n' is the 13th letter, and 'e' is the 4th: \\(13 - 9 = 4\\)).  \n",
       "\n",
       "2. **Apply the Shift:**  \n",
       "   - For example:  \n",
       "     - **Y → P** (shifted 9 back)  \n",
       "     - **n → e**  \n",
       "     - **x → o**  \n",
       "     - This decodes \"Ynxyun\" to \"People.\"  \n",
       "\n",
       "3. **Full Decryption:**  \n",
       "   - Each letter is shifted back by 9, translating the entire ciphertext to the final message.  \n",
       "\n",
       "**Key Insight:**  \n",
       "This phrase highlights a cognitive bias called **confirmation bias**, where people favor information that aligns with their existing beliefs. The Caesar cipher here mirrors the \"shift\" in perception people often experience when processing information."
      ],
      "text/plain": [
       "<IPython.core.display.Markdown object>"
      ]
     },
     "metadata": {},
     "output_type": "display_data"
    }
   ],
   "source": [
    "chat_with_deepseek(\"Deciper this code: \"+ cipher_text[8], clear_history=True)"
   ]
  },
  {
   "cell_type": "code",
   "execution_count": 18,
   "metadata": {},
   "outputs": [
    {
     "data": {
      "text/markdown": [
       "The ciphertext uses a **Caesar cipher with a shift of 10 positions backward** (or 16 positions forward). Here's the decrypted message:\n",
       "\n",
       "---\n",
       "\n",
       "**Decrypted Text:**  \n",
       "\"SLEEP PLAYS A KEY ROLE IN MEMORY CONSOLIDATION, AND ITS LACK CAN LEAD TO PROBLEMS WITH CONCENTRATION AND LEARNING.\"\n",
       "\n",
       "---\n",
       "\n",
       "**Step-by-Step Breakdown:**  \n",
       "1. **Identify the Shift:**  \n",
       "   - The repeated trigram \"kxn\" decrypts to \"and\" (common English word), confirming a shift of **10 backward** (e.g., `k → a`, `x → n`, `n → d`).  \n",
       "\n",
       "2. **Key Examples:**  \n",
       "   - **Cvooz → SLEEP**  \n",
       "     - `C → S`, `v → L`, `o → E`, `z → P`.  \n",
       "   - **zbylvowc → PROBLEMS**  \n",
       "     - `z → P`, `b → R`, `y → O`, `l → B`, etc.  \n",
       "   - **myxmoxdbkdsyx → CONCENTRATION**  \n",
       "     - Adjusted for a likely ciphertext typo (extra letters corrected for clarity).  \n",
       "\n",
       "3. **Full Translation:**  \n",
       "   - Each letter is shifted back by 10 to reveal the message about **sleep's role in memory and cognitive function**.  \n",
       "\n",
       "**Why This Works:**  \n",
       "The Caesar cipher here aligns with the theme of \"shifting\" focus to scientific truths about sleep. The decrypted text highlights the importance of sleep for memory consolidation and cognitive health, a concept often overlooked despite its simplicity—much like how Caesar ciphers hide messages in plain sight."
      ],
      "text/plain": [
       "<IPython.core.display.Markdown object>"
      ]
     },
     "metadata": {},
     "output_type": "display_data"
    }
   ],
   "source": [
    "chat_with_deepseek(\"Deciper this code: \"+ cipher_text[9])"
   ]
  },
  {
   "cell_type": "markdown",
   "metadata": {},
   "source": [
    "## Results"
   ]
  },
  {
   "cell_type": "markdown",
   "metadata": {},
   "source": [
    "The results are satisfacory. Most were done using zero-shot. But with the 9th text it took it 10 minutes to compute. Thats why I made the last one use the context of the previous one reducing the context window. The compute time was getting longer and longer, because the LLM was trying every shift one by one and the first one's where easier to find this way. "
   ]
  }
 ],
 "metadata": {
  "kernelspec": {
   "display_name": "myenv",
   "language": "python",
   "name": "python3"
  },
  "language_info": {
   "codemirror_mode": {
    "name": "ipython",
    "version": 3
   },
   "file_extension": ".py",
   "mimetype": "text/x-python",
   "name": "python",
   "nbconvert_exporter": "python",
   "pygments_lexer": "ipython3",
   "version": "3.12.2"
  }
 },
 "nbformat": 4,
 "nbformat_minor": 2
}
